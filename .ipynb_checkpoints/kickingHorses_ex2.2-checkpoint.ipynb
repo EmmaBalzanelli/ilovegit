{
 "cells": [
  {
   "cell_type": "code",
   "execution_count": 1,
   "id": "75c3ec3a",
   "metadata": {},
   "outputs": [],
   "source": [
    "import numpy as np\n",
    "import matplotlib.pyplot as plt\n",
    "from scipy.interpolate import interp1d\n",
    "from scipy.optimize import curve_fit\n",
    "from scipy.stats import norm\n",
    "import random\n",
    "import math"
   ]
  },
  {
   "cell_type": "code",
   "execution_count": 11,
   "id": "504fd95f",
   "metadata": {},
   "outputs": [],
   "source": [
    "deaths = [0,1,2,3,4]\n",
    "groups = [109,65,22,3,1]\n",
    "\n",
    "pdf = []\n",
    "deaths_v = []\n",
    "\n",
    "for i in range(len(groups)):\n",
    "    for j in range(groups[i]):\n",
    "        deaths_v.append(deaths[i])\n",
    "    pdf.append(groups[i]/sum(groups))\n",
    "\n",
    "groups_v = np.linspace(0,sum(groups),sum(groups))"
   ]
  },
  {
   "cell_type": "code",
   "execution_count": 10,
   "id": "9e667f58",
   "metadata": {},
   "outputs": [
    {
     "data": {
      "text/plain": [
       "(array([109.,   0.,   0.,  65.,   0.,   0.,   0.,  22.,   0.,   0.,   3.,\n",
       "          0.,   0.,   1.]),\n",
       " array([0.        , 0.28571429, 0.57142857, 0.85714286, 1.14285714,\n",
       "        1.42857143, 1.71428571, 2.        , 2.28571429, 2.57142857,\n",
       "        2.85714286, 3.14285714, 3.42857143, 3.71428571, 4.        ]),\n",
       " <BarContainer object of 14 artists>)"
      ]
     },
     "execution_count": 10,
     "metadata": {},
     "output_type": "execute_result"
    },
    {
     "data": {
      "image/png": "[encoded data removed]",
      "text/plain": [
       "<Figure size 432x288 with 1 Axes>"
      ]
     },
     "metadata": {
      "needs_background": "light"
     },
     "output_type": "display_data"
    }
   ],
   "source": [
    "plt.hist(deaths_v,bins=int(np.sqrt(sum(groups))))"
   ]
  },
  {
   "cell_type": "code",
   "execution_count": 14,
   "id": "3c02ad78",
   "metadata": {},
   "outputs": [
    {
     "data": {
      "text/plain": [
       "[<matplotlib.lines.Line2D at 0x1dd84e80730>]"
      ]
     },
     "execution_count": 14,
     "metadata": {},
     "output_type": "execute_result"
    },
    {
     "data": {
      "image/png": "[encoded data removed]",
      "text/plain": [
       "<Figure size 432x288 with 1 Axes>"
      ]
     },
     "metadata": {
      "needs_background": "light"
     },
     "output_type": "display_data"
    }
   ],
   "source": [
    "plt.plot(np.linspace(np.min(pdf),np.max(pdf),len(pdf)), pdf, '.')"
   ]
  },
  {
   "cell_type": "code",
   "execution_count": 15,
   "id": "2df8347d",
   "metadata": {},
   "outputs": [],
   "source": [
    "#PLOT OVER A POISSON DISTRIBUTION WITH THE SAME MEAN OF THE SAMPLE (not statistical accurate but ok)"
   ]
  },
  {
   "cell_type": "code",
   "execution_count": null,
   "id": "359e8342",
   "metadata": {},
   "outputs": [],
   "source": []
  }
 ],
 "metadata": {
  "kernelspec": {
   "display_name": "Python 3 (ipykernel)",
   "language": "python",
   "name": "python3"
  },
  "language_info": {
   "codemirror_mode": {
    "name": "ipython",
    "version": 3
   },
   "file_extension": ".py",
   "mimetype": "text/x-python",
   "name": "python",
   "nbconvert_exporter": "python",
   "pygments_lexer": "ipython3",
   "version": "3.9.7"
  }
 },
 "nbformat": 4,
 "nbformat_minor": 5
}
