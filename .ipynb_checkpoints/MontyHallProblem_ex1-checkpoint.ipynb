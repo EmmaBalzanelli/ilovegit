{
 "cells": [
  {
   "cell_type": "code",
   "execution_count": 1,
   "id": "31356593",
   "metadata": {},
   "outputs": [],
   "source": [
    "import numpy as np\n",
    "import matplotlib.pyplot as plt\n",
    "from scipy.interpolate import interp1d\n",
    "from scipy.optimize import curve_fit\n",
    "from scipy.stats import norm\n",
    "import math"
   ]
  },
  {
   "cell_type": "code",
   "execution_count": 86,
   "id": "d4e11b00",
   "metadata": {},
   "outputs": [],
   "source": [
    "def doorsfiller(n):\n",
    "    rand_doors = np.zeros(int(n)) #vettore di tutti zeri (capre)\n",
    "    rand_index = np.random.randint(0,int(n)) #indice casuale dove si troverà la macchina\n",
    "    rand_doors[rand_index] = 1 #metto la macchina nella posizione data dall'indice casuale\n",
    "    return rand_doors"
   ]
  },
  {
   "cell_type": "code",
   "execution_count": 48,
   "id": "95e0232c",
   "metadata": {},
   "outputs": [
    {
     "name": "stdout",
     "output_type": "stream",
     "text": [
      "[1. 0. 0.]\n"
     ]
    }
   ],
   "source": [
    "doors_n = doorsfiller(3)\n",
    "print (doors_n)"
   ]
  },
  {
   "cell_type": "code",
   "execution_count": 49,
   "id": "fe895d0e",
   "metadata": {},
   "outputs": [],
   "source": [
    "doors = np.array([0,0,1]) #0=capra, 1=lambo\n",
    "d = np.array([0,1,2])"
   ]
  },
  {
   "cell_type": "code",
   "execution_count": 50,
   "id": "26b93cdb",
   "metadata": {},
   "outputs": [
    {
     "name": "stdout",
     "output_type": "stream",
     "text": [
      "2\n"
     ]
    }
   ],
   "source": [
    "choose = np.random.randint(0,3) #esclude il 3 quindi scelta a caso tra 0,1,2\n",
    "print(choose)"
   ]
  },
  {
   "cell_type": "code",
   "execution_count": 41,
   "id": "0eb2c5e7",
   "metadata": {},
   "outputs": [
    {
     "name": "stdout",
     "output_type": "stream",
     "text": [
      "[0 2]\n"
     ]
    }
   ],
   "source": [
    "host = np.delete(d,choose)\n",
    "print(host)"
   ]
  },
  {
   "cell_type": "code",
   "execution_count": 38,
   "id": "0a31fded",
   "metadata": {},
   "outputs": [
    {
     "name": "stdout",
     "output_type": "stream",
     "text": [
      "1\n",
      "0\n"
     ]
    }
   ],
   "source": [
    "#switcher\n",
    "if doors[host[0]] == 0:\n",
    "    choose_def = host[1]\n",
    "    host_def = host[0]\n",
    "else:\n",
    "    choose_def = host[0]\n",
    "    host_def = host[1]\n",
    "\n",
    "print(doors[choose_def])\n",
    "print(host_def)      "
   ]
  },
  {
   "cell_type": "code",
   "execution_count": null,
   "id": "541c28f8",
   "metadata": {},
   "outputs": [],
   "source": [
    "#newcomer\n",
    "new = np.rand.randint()"
   ]
  },
  {
   "cell_type": "markdown",
   "id": "bedf03a4",
   "metadata": {},
   "source": [
    "# Con ciclo for per diversa scelta MA stessa \"posizone delle porte\":"
   ]
  },
  {
   "cell_type": "code",
   "execution_count": 81,
   "id": "9c4a486c",
   "metadata": {},
   "outputs": [],
   "source": [
    "count_s = []\n",
    "count_c = []\n",
    "count_n = []\n",
    "\n",
    "for i in range(0,1000):\n",
    "    choose_s = np.random.randint(0,3) #Switcher (randint esclude il 3 quindi scelta a caso tra 0,1,2)\n",
    "    choose_c = np.random.randint(0,3) #conservative\n",
    "    host = np.delete(d,choose_s) #va bene definito per lo switcher perchè per il conservative non cambia nulla\n",
    "    if doors[host[0]] == 0: #Ciclo per giocatore switcher (va bene! non pensarci)\n",
    "        choose_def_s = host[1]\n",
    "        host_def = host[0]\n",
    "    else:\n",
    "        choose_def_s = host[0]\n",
    "        host_def = host[1]\n",
    "    choose_n = np.delete(d,host_def)[np.random.randint(len(d)-1)] #scelta ne newcomer\n",
    "    \n",
    "    count_s.append(doors[choose_def_s])\n",
    "    count_c.append(doors[choose_c])\n",
    "    count_n.append(doors[choose_n])\n",
    "\n",
    "count_s = np.array(count_s)\n",
    "count_c = np.array(count_c)\n",
    "count_n = np.array(count_n)\n",
    "#print(count_s, \"\\n\", count_c, \"\\n\", count_n)"
   ]
  },
  {
   "cell_type": "code",
   "execution_count": 82,
   "id": "b5318ddb",
   "metadata": {},
   "outputs": [
    {
     "name": "stdout",
     "output_type": "stream",
     "text": [
      "0.677 \n",
      " 0.331 \n",
      " 0.505\n"
     ]
    }
   ],
   "source": [
    "p_winn_s = (len(count_s[count_s==1])/len(count_s))\n",
    "p_winn_c = (len(count_c[count_c==1])/len(count_c))\n",
    "p_winn_n = (len(count_n[count_n==1])/len(count_n))\n",
    "\n",
    "print(p_winn_s, \"\\n\", p_winn_c, \"\\n\", p_winn_n)"
   ]
  },
  {
   "cell_type": "markdown",
   "id": "c1487989",
   "metadata": {},
   "source": [
    "# Ciclo per diverse scelte E posizione porte casuale"
   ]
  },
  {
   "cell_type": "code",
   "execution_count": 84,
   "id": "69e2e5c8",
   "metadata": {},
   "outputs": [
    {
     "name": "stdout",
     "output_type": "stream",
     "text": [
      "[1. 0. 0.]\n",
      "0.65 \n",
      " 0.338 \n",
      " 0.474\n"
     ]
    }
   ],
   "source": [
    "doors_n = doorsfiller(3)\n",
    "print (doors_n)\n",
    "\n",
    "count_s = []\n",
    "count_c = []\n",
    "count_n = []\n",
    "\n",
    "for i in range(0,1000):\n",
    "    choose_s = np.random.randint(0,3) #Switcher (randint esclude il 3 quindi scelta a caso tra 0,1,2)\n",
    "    choose_c = np.random.randint(0,3) #conservative\n",
    "    host = np.delete(d,choose_s) #va bene definito per lo switcher perchè per il conservative non cambia nulla\n",
    "    if doors_n[host[0]] == 0: #Ciclo per giocatore switcher (va bene! non pensarci)\n",
    "        choose_def_s = host[1]\n",
    "        host_def = host[0]\n",
    "    else:\n",
    "        choose_def_s = host[0]\n",
    "        host_def = host[1]\n",
    "    choose_n = np.delete(d,host_def)[np.random.randint(len(d)-1)]  #scelta ne newcomer\n",
    "    \n",
    "    count_s.append(doors_n[choose_def_s])\n",
    "    count_c.append(doors_n[choose_c])\n",
    "    count_n.append(doors_n[choose_n])\n",
    "\n",
    "count_s = np.array(count_s)\n",
    "count_c = np.array(count_c)\n",
    "count_n = np.array(count_n)\n",
    "\n",
    "p_winn_s = (len(count_s[count_s==1])/len(count_s))\n",
    "p_winn_c = (len(count_c[count_c==1])/len(count_c))\n",
    "p_winn_n = (len(count_n[count_n==1])/len(count_n))\n",
    "\n",
    "print(p_winn_s, \"\\n\", p_winn_c, \"\\n\", p_winn_n)"
   ]
  },
  {
   "cell_type": "markdown",
   "id": "bbe169d9",
   "metadata": {},
   "source": [
    "# Se ho N porte e l'host può aprirne p<=N"
   ]
  },
  {
   "cell_type": "code",
   "execution_count": 226,
   "id": "e17efefd",
   "metadata": {},
   "outputs": [],
   "source": [
    "p_winn_s = []\n",
    "p_winn_c = []\n",
    "p_winn_n = []"
   ]
  },
  {
   "cell_type": "code",
   "execution_count": 257,
   "id": "db77efa6",
   "metadata": {},
   "outputs": [
    {
     "name": "stdout",
     "output_type": "stream",
     "text": [
      "How many doors? 30\n"
     ]
    }
   ],
   "source": [
    "n = int(input(\"How many doors? \"))\n",
    "doors_N = doorsfiller(n)"
   ]
  },
  {
   "cell_type": "code",
   "execution_count": 258,
   "id": "7143d4bc",
   "metadata": {},
   "outputs": [
    {
     "name": "stdout",
     "output_type": "stream",
     "text": [
      "how many doors can the host open? (Max n-2): 28\n"
     ]
    }
   ],
   "source": [
    "p = int(input(\"how many doors can the host open? (Max n-2): \"))"
   ]
  },
  {
   "cell_type": "code",
   "execution_count": 259,
   "id": "6bdc6a00",
   "metadata": {},
   "outputs": [
    {
     "name": "stdout",
     "output_type": "stream",
     "text": [
      "[0. 0. 0. 1. 0. 0. 0. 0. 0. 0. 0. 0. 0. 0. 0. 0. 0. 0. 0. 0. 0. 0. 0. 0.\n",
      " 0. 0. 0. 0. 0. 0.]\n",
      "28\n",
      "porte aperte:  28 \n",
      "Switcher:  [0.697, 0.842, 0.887, 0.921, 0.934, 0.944, 0.958, 0.95, 0.961, 0.973] \n",
      "Conservative:  [0.322, 0.15, 0.109, 0.071, 0.071, 0.052, 0.047, 0.043, 0.033, 0.041] \n",
      "Newcomer:  [0.499, 0.517, 0.507, 0.504, 0.487, 0.509, 0.474, 0.524, 0.494, 0.488] \n",
      "\n"
     ]
    }
   ],
   "source": [
    "print(doors_N)\n",
    "print(p)\n",
    "\n",
    "count_s = []\n",
    "count_c = []\n",
    "count_n = []\n",
    "\n",
    "for i in range(0,1000):\n",
    "    choose_s = np.random.randint(0,n) #Switcher (randint esclude il 3 quindi scelta a caso tra 0,1,2)\n",
    "    choose_c = np.random.randint(0,n) #conservative\n",
    "    host = np.delete(doors_N,choose_s) #va bene definito per lo switcher perchè per il conservative non cambia nulla\n",
    "    host_goat_index = []\n",
    "    host_goat_index_s = []\n",
    "    choices_left_s = []\n",
    "    choiches_left_n = []\n",
    "    \n",
    "    for j in range(0, p):  #ciclo per selezionare p porte che aprirà l'host (t = indice in host, k = valore di host[t])\n",
    "        for t, k in enumerate(doors_N):  #iterazione su TUTTE le porte\n",
    "            if k == 0 and t != choose_s and t not in host_goat_index: #condizione di scelta porte da aprire\n",
    "                host_goat_index.append(t)  #vettore degli indici delle p porte aperte\n",
    "                host_goat_index_s.append(t) #vettore degli indici delle p porte che non potrà scegliere lo switcher (aperte dall'host)\n",
    "                break  #trovo una capra e passo alla prossima porta da aprire\n",
    "                \n",
    "    host_goat_index_s.append(choose_s) #aggiungo anche la prima scelta dello switcher\n",
    "    host_goat_index = np.array(host_goat_index, dtype=int) #converto in intero\n",
    "    host_goat_index_s = np.array(host_goat_index_s, dtype=int) #//\n",
    "        \n",
    "    choices_left_s = np.delete(doors_N,host_goat_index_s) #sclete che rimangono allo switcher\n",
    "    choices_left_n = np.delete(doors_N, host_goat_index) #scelte che rimangono al newcomer\n",
    "    choose_def_s = int(np.random.choice(choices_left_s)) #cambio di scelta per lo switcher\n",
    "    choose_n = int(np.random.choice(choices_left_n)) #scelta del newcomer\n",
    "\n",
    "    #conteggi vittorie(1) e perdite(0)\n",
    "    count_s.append(choose_def_s)\n",
    "    count_c.append(doors_N[choose_c])\n",
    "    count_n.append(choose_n)\n",
    "        \n",
    "count_s = np.array(count_s)\n",
    "count_c = np.array(count_c)\n",
    "count_n = np.array(count_n)\n",
    "p_winn_s.append(len(count_s[count_s==1])/len(count_s))\n",
    "p_winn_c.append(len(count_c[count_c==1])/len(count_c))\n",
    "p_winn_n.append(len(count_n[count_n==1])/len(count_n))\n",
    "    \n",
    "print(\"porte aperte: \",p, \"\\nSwitcher: \", p_winn_s, \"\\nConservative: \", p_winn_c,\"\\nNewcomer: \", p_winn_n, \"\\n\")"
   ]
  },
  {
   "cell_type": "code",
   "execution_count": 262,
   "id": "5add5ad6",
   "metadata": {},
   "outputs": [
    {
     "data": {
      "image/png": "[encoded data removed]",
      "text/plain": [
       "<Figure size 432x288 with 1 Axes>"
      ]
     },
     "metadata": {
      "needs_background": "light"
     },
     "output_type": "display_data"
    }
   ],
   "source": [
    "porte = np.arange(1,n,3)\n",
    "plt.plot(porte, np.array(p_winn_s))\n",
    "plt.plot(porte, np.array(p_winn_c))\n",
    "plt.plot(porte, np.array(p_winn_n))\n",
    "plt.xlabel(\"numbers of doors\")\n",
    "plt.ylabel(\"winn probability\")\n",
    "plt.title(\"winn probability for different player types\")\n",
    "plt.grid()\n",
    "plt.show()"
   ]
  },
  {
   "cell_type": "code",
   "execution_count": null,
   "id": "f63d53c9",
   "metadata": {},
   "outputs": [],
   "source": []
  }
 ],
 "metadata": {
  "kernelspec": {
   "display_name": "Python 3 (ipykernel)",
   "language": "python",
   "name": "python3"
  },
  "language_info": {
   "codemirror_mode": {
    "name": "ipython",
    "version": 3
   },
   "file_extension": ".py",
   "mimetype": "text/x-python",
   "name": "python",
   "nbconvert_exporter": "python",
   "pygments_lexer": "ipython3",
   "version": "3.9.7"
  }
 },
 "nbformat": 4,
 "nbformat_minor": 5
}
